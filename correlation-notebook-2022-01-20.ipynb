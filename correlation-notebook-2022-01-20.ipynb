{
 "cells": [
  {
   "cell_type": "markdown",
   "metadata": {},
   "source": [
    "This notebook contains all the populaton level correlation analyses for Nurminen, Bijanzadeh & Angelucci 2022."
   ]
  },
  {
   "cell_type": "code",
   "execution_count": 1,
   "metadata": {},
   "outputs": [],
   "source": [
    "# Import packages, load pre-computed data and do pre-processing\n",
    "\n",
    "import sys\n",
    "import pickle as pkl\n",
    "import numpy as np\n",
    "import matplotlib.pyplot as plt\n",
    "import pandas as pd\n",
    "import seaborn as sns\n",
    "\n",
    "sys.path.append('C:/Users/lonurmin/Desktop/code/DataAnalysis/')\n",
    "import data_analysislib as dalib\n",
    "from scipy.optimize import basinhopping\n",
    "\n",
    "def cost_fano(params,xdata,ydata):\n",
    "    Rhat = dalib.doubleROG(xdata,*params)\n",
    "    err  = np.sum(np.power(Rhat - ydata,2))\n",
    "    return err\n",
    "\n",
    "def cost_response(params,xdata,ydata):\n",
    "    Rhat = dalib.ROG(xdata,*params)\n",
    "    err  = np.sum(np.power(Rhat - ydata,2))\n",
    "    return err\n",
    "\n",
    "F_dir   = 'C:/Users/lonurmin/Desktop/CorrelatedVariability/results/paper_v9/MK-MU/'\n",
    "params_df = pd.read_csv(F_dir + 'extracted_correlation_params.csv')\n",
    "corrBSL = np.nanmean(params_df['gm_fit_correlation_BSL'].values)\n",
    "params_df['utype'] = ['multi'] * len(params_df.index)\n",
    "\n",
    "paramsas = params_df\n",
    "\n",
    "# correlations for all pairs\n",
    "with open(F_dir + 'correlations_all.pkl','rb') as f:\n",
    "    correlations_all = pkl.load(f)\n",
    "\n",
    "with open(F_dir + 'means_all.pkl','rb') as f:\n",
    "    means_all = pkl.load(f)    \n",
    "    \n",
    "diams_all  = np.array(list(correlations_all.keys()))\n",
    "rSC_mn_all = np.zeros(diams_all.shape[0])\n",
    "rSC_SE_all = np.zeros(diams_all.shape[0])\n",
    "gm_mn_all  = np.zeros(diams_all.shape[0])\n",
    "gm_SE_all  = np.zeros(diams_all.shape[0])\n",
    "\n",
    "for d in range(diams_all.shape[0]):\n",
    "    rSC_mn_all[d] = np.mean(correlations_all[diams_all[d]])\n",
    "    rSC_SE_all[d] = np.std(correlations_all[diams_all[d]]) / np.sqrt(correlations_all[diams_all[d]].shape[0])\n",
    "\n",
    "    gm_mn_all[d] = np.mean(means_all[diams_all[d]])\n",
    "    gm_SE_all[d] = np.std(means_all[diams_all[d]]) / np.sqrt(means_all[diams_all[d]].shape[0])\n",
    "    \n",
    "    \n",
    "# correlations for supragranular layer units\n",
    "with open(F_dir + 'correlations_SGSG.pkl','rb') as f:\n",
    "    correlations_SGSG = pkl.load(f)\n",
    "with open(F_dir + 'means_SGSG.pkl','rb') as f:\n",
    "    means_SGSG = pkl.load(f)\n",
    "    \n",
    "diams_SGSG  = np.array(list(correlations_SGSG.keys()))\n",
    "rSC_mn_SGSG = np.zeros(diams_SGSG.shape[0])\n",
    "rSC_SE_SGSG = np.zeros(diams_SGSG.shape[0])\n",
    "gm_mn_SGSG = np.zeros(diams_SGSG.shape[0])\n",
    "gm_SE_SGSG = np.zeros(diams_SGSG.shape[0])\n",
    "\n",
    "for d in range(diams_SGSG.shape[0]):\n",
    "    rSC_mn_SGSG[d] = np.mean(correlations_SGSG[diams_SGSG[d]])\n",
    "    rSC_SE_SGSG[d] = np.std(correlations_SGSG[diams_SGSG[d]]) / np.sqrt(correlations_SGSG[diams_SGSG[d]].shape[0])\n",
    "\n",
    "    gm_mn_SGSG[d] = np.mean(means_SGSG[diams_SGSG[d]])\n",
    "    gm_SE_SGSG[d] = np.std(means_SGSG[diams_SGSG[d]]) / np.sqrt(means_SGSG[diams_SGSG[d]].shape[0])\n",
    "    \n",
    "# correlations for infragranular units\n",
    "with open(F_dir + 'correlations_IGIG.pkl','rb') as f:\n",
    "    correlations_IGIG = pkl.load(f)\n",
    "# correlations for narrow spiking units\n",
    "with open(F_dir + 'means_IGIG.pkl','rb') as f:\n",
    "    means_IGIG = pkl.load(f)\n",
    "    \n",
    "diams_IGIG  = np.array(list(correlations_IGIG.keys()))\n",
    "rSC_mn_IGIG = np.zeros(diams_IGIG.shape[0])\n",
    "rSC_SE_IGIG = np.zeros(diams_IGIG.shape[0])\n",
    "gm_mn_IGIG = np.zeros(diams_IGIG.shape[0])\n",
    "gm_SE_IGIG = np.zeros(diams_IGIG.shape[0])\n",
    "for d in range(diams_IGIG.shape[0]):\n",
    "    rSC_mn_IGIG[d] = np.mean(correlations_IGIG[diams_IGIG[d]])\n",
    "    rSC_SE_IGIG[d] = np.std(correlations_IGIG[diams_IGIG[d]]) / np.sqrt(correlations_IGIG[diams_IGIG[d]].shape[0])\n",
    "\n",
    "    gm_mn_IGIG[d] = np.mean(means_IGIG[diams_IGIG[d]])\n",
    "    gm_SE_IGIG[d] = np.std(means_IGIG[diams_IGIG[d]]) / np.sqrt(means_IGIG[diams_IGIG[d]].shape[0])\n",
    "\n",
    "# correlations for granular units\n",
    "with open(F_dir + 'correlations_GG.pkl','rb') as f:\n",
    "    correlations_GG = pkl.load(f)\n",
    "# correlations for narrow spiking units\n",
    "with open(F_dir + 'means_GG.pkl','rb') as f:\n",
    "    means_GG = pkl.load(f)\n",
    "    \n",
    "diams_GG  = np.array(list(correlations_GG.keys()))\n",
    "rSC_mn_GG = np.zeros(diams_GG.shape[0])\n",
    "rSC_SE_GG = np.zeros(diams_GG.shape[0])\n",
    "gm_mn_GG = np.zeros(diams_GG.shape[0])\n",
    "gm_SE_GG = np.zeros(diams_GG.shape[0])\n",
    "for d in range(diams_GG.shape[0]):\n",
    "    rSC_mn_GG[d] = np.mean(correlations_GG[diams_GG[d]])\n",
    "    rSC_SE_GG[d] = np.std(correlations_GG[diams_GG[d]]) / np.sqrt(correlations_GG[diams_GG[d]].shape[0])\n",
    "\n",
    "    gm_mn_GG[d] = np.mean(means_GG[diams_GG[d]])\n",
    "    gm_SE_GG[d] = np.std(means_GG[diams_GG[d]]) / np.sqrt(means_GG[diams_GG[d]].shape[0])\n"
   ]
  },
  {
   "cell_type": "code",
   "execution_count": 2,
   "metadata": {},
   "outputs": [
    {
     "data": {
      "image/png": "[encoded data removed]",
      "text/plain": [
       "<Figure size 432x288 with 2 Axes>"
      ]
     },
     "metadata": {
      "needs_background": "light"
     },
     "output_type": "display_data"
    }
   ],
   "source": [
    "# plot the average correlation and mean firing rate for all units\n",
    "plt.figure(num='Grand Average',frameon=False)\n",
    "ax2 = plt.subplot(1,1,1)\n",
    "ax2.title.set_text('Grand Average')\n",
    "args = (diams_all,rSC_mn_all)\n",
    "bnds = np.array([[0.0001,0.0001,0,0,0],[30,30,100,100,None]]).T\n",
    "res  = basinhopping(cost_response,np.ones(5),minimizer_kwargs={'method': 'L-BFGS-B', 'args':args,'bounds':bnds},seed=1234)\n",
    "popt = res.x\n",
    "diams_tight = np.logspace(np.log10(diams_all[0]),np.log10(diams_all[-1]),1000)\n",
    "Chat = dalib.ROG(diams_tight,*popt)\n",
    "args = (diams_all,gm_mn_all)\n",
    "bnds = np.array([[0.0001,0.0001,0,0,0],[30,30,100,100,None]]).T\n",
    "res  = basinhopping(cost_response,np.ones(5),minimizer_kwargs={'method': 'L-BFGS-B', 'args':args,'bounds':bnds},seed=1234)\n",
    "popt = res.x\n",
    "diams_tight = np.logspace(np.log10(diams_all[0]),np.log10(diams_all[-1]),1000)\n",
    "Rhat = dalib.ROG(diams_tight,*popt)\n",
    "\n",
    "corrBSL_all = params_df['gm_fit_correlation_BSL'].mean()\n",
    "ax2b = ax2.twinx()\n",
    "ax2.errorbar(diams_all, rSC_mn_all, yerr=rSC_SE_all, fmt='ko', markerfacecolor='None')\n",
    "ax2b.errorbar(diams_all, gm_mn_all, yerr=gm_SE_all, fmt='ro', markerfacecolor='None')\n",
    "ax2.plot(diams_tight,Chat, 'k-')\n",
    "ax2b.plot(diams_tight,Rhat, 'r-')\n",
    "ax2.plot([diams_all[0], diams_all[-1]], [corrBSL_all, corrBSL_all], 'k--')\n",
    "ax2.set_xscale('log')\n",
    "#ax2.set_yticks([0, 0.15, 0.3, 0.45])\n",
    "ax2.set_xticks([0.1, 1, 10])\n",
    "ax2b.spines['right'].set_color('red')\n",
    "ax2b.tick_params(axis='y',colors='red')\n",
    "ax2b.yaxis.label.set_color('red')"
   ]
  },
  {
   "cell_type": "markdown",
   "metadata": {},
   "source": [
    "The figure above plot the average correlation and firing-rate for all the 82 multi-units we recorded for this study. Black symbols show correlations and red symbols show firing-rate. The smooth curvers show a function fitted to the data. "
   ]
  }
 ],
 "metadata": {
  "interpreter": {
   "hash": "3635798f6d93b28918d55a987565eca6b024c6e6e0f46356c9640e5d0e095408"
  },
  "kernelspec": {
   "display_name": "Python 3.7.11 64-bit ('danalysis': conda)",
   "language": "python",
   "name": "python3"
  },
  "language_info": {
   "codemirror_mode": {
    "name": "ipython",
    "version": 3
   },
   "file_extension": ".py",
   "mimetype": "text/x-python",
   "name": "python",
   "nbconvert_exporter": "python",
   "pygments_lexer": "ipython3",
   "version": "3.7.11"
  },
  "orig_nbformat": 4
 },
 "nbformat": 4,
 "nbformat_minor": 2
}
